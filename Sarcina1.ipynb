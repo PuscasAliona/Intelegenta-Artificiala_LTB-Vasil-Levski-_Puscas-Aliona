{
 "cells": [
  {
   "cell_type": "code",
   "execution_count": 19,
   "id": "01db6f93",
   "metadata": {},
   "outputs": [
    {
     "name": "stdout",
     "output_type": "stream",
     "text": [
      "Avem ecuatie de gradul II: ax^2 + bx + c = 0:\n",
      "Introduceti coeficiente\n",
      "a = 2\n",
      "b = 3\n",
      "c = -4\n",
      " D = 41\n",
      "x1 = 0.851\n",
      "x2 = -2.35\n"
     ]
    }
   ],
   "source": [
    "import math\n",
    "print(\"Avem ecuatie de gradul II: ax^2 + bx + c = 0:\") \n",
    "print(\"Introduceti coeficiente\")\n",
    "\n",
    "a = int(input(\"a = \"))\n",
    "b = int(input(\"b = \"))\n",
    "c = int(input(\"c = \"))\n",
    " \n",
    "D = b ** 2 - 4 * a * c\n",
    "print(\" D = %.f\" % D)\n",
    " \n",
    "if D > 0:\n",
    "    x1 = (-b + math.sqrt(D)) / (2 * a)\n",
    "    x2 = (-b - math.sqrt(D)) / (2 * a)\n",
    "    print(\"x1 = %.2f\" % x1);\n",
    "    print(\"x2 = %.2f\" % x2);\n",
    "elif D == 0:\n",
    "    x = -b / (2 * a)\n",
    "    print(\"x =%.2f\"  % x)\n",
    "else:\n",
    "    print(\"Nu sunt solutii\")"
   ]
  },
  {
   "cell_type": "code",
   "execution_count": 16,
   "id": "db535be3",
   "metadata": {},
   "outputs": [
    {
     "data": {
      "text/plain": [
       "-3"
      ]
     },
     "execution_count": 16,
     "metadata": {},
     "output_type": "execute_result"
    }
   ],
   "source": [
    "-3\n"
   ]
  },
  {
   "cell_type": "code",
   "execution_count": null,
   "id": "17a0c09e",
   "metadata": {},
   "outputs": [],
   "source": []
  }
 ],
 "metadata": {
  "kernelspec": {
   "display_name": "Python 3",
   "language": "python",
   "name": "python3"
  },
  "language_info": {
   "codemirror_mode": {
    "name": "ipython",
    "version": 3
   },
   "file_extension": ".py",
   "mimetype": "text/x-python",
   "name": "python",
   "nbconvert_exporter": "python",
   "pygments_lexer": "ipython3",
   "version": "3.7.9"
  }
 },
 "nbformat": 4,
 "nbformat_minor": 5
}
