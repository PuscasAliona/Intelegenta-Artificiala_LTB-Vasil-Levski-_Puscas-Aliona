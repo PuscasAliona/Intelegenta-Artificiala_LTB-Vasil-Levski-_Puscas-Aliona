{
 "cells": [
  {
   "cell_type": "code",
   "execution_count": 2,
   "id": "260a3ea5",
   "metadata": {},
   "outputs": [
    {
     "name": "stdout",
     "output_type": "stream",
     "text": [
      "Introduceti coordonatele punctelor:\n",
      "x1 = 1\n",
      "y1 = 2\n",
      "x2 = -1\n",
      "y2 = -2\n",
      " d = 4.47\n"
     ]
    }
   ],
   "source": [
    "import math\n",
    "print(\"Introduceti coordonatele punctelor:\") \n",
    "\n",
    "x1 = int(input(\"x1 = \"))\n",
    "y1 = int(input(\"y1 = \"))\n",
    "x2 = int(input(\"x2 = \"))\n",
    "y2 = int(input(\"y2 = \"))\n",
    "\n",
    "d=math.sqrt(math.pow((x2-x1),2)+math.pow((y2-y1),2))\n",
    "print(\" d = %.2f\" % d)"
   ]
  },
  {
   "cell_type": "code",
   "execution_count": null,
   "id": "67f6cdfe",
   "metadata": {},
   "outputs": [],
   "source": []
  }
 ],
 "metadata": {
  "kernelspec": {
   "display_name": "Python 3",
   "language": "python",
   "name": "python3"
  },
  "language_info": {
   "codemirror_mode": {
    "name": "ipython",
    "version": 3
   },
   "file_extension": ".py",
   "mimetype": "text/x-python",
   "name": "python",
   "nbconvert_exporter": "python",
   "pygments_lexer": "ipython3",
   "version": "3.7.9"
  }
 },
 "nbformat": 4,
 "nbformat_minor": 5
}
