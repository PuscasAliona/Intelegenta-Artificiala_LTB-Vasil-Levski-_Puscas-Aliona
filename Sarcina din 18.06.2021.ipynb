{
 "cells": [
  {
   "cell_type": "code",
   "execution_count": null,
   "id": "d444a60b",
   "metadata": {},
   "outputs": [],
   "source": [
    "# problema steluta\n",
    "for i in range(5):\n",
    "    print('* '*i)\n",
    "\n",
    "    \n",
    "\n",
    "#tabla inmultirii \n",
    "for i in range(1,11):\n",
    "    for j in range(1,11):\n",
    "        print(f\"{i}x{j}={i*j}\")\n",
    "\n",
    "        \n",
    "        \n",
    "#victorina 2+2\n",
    "a=int(input(\"Cit face 2+2?\"))\n",
    "if a==4:\n",
    "    print(\"Bravo!\")\n",
    "else:\n",
    "    while a!=4:\n",
    "        a=int(input(\"mai incearca odata\"))\n",
    "        if a==4:\n",
    "            print(\"Bravo!\")    \n"
   ]
  }
 ],
 "metadata": {
  "kernelspec": {
   "display_name": "Python 3",
   "language": "python",
   "name": "python3"
  },
  "language_info": {
   "codemirror_mode": {
    "name": "ipython",
    "version": 3
   },
   "file_extension": ".py",
   "mimetype": "text/x-python",
   "name": "python",
   "nbconvert_exporter": "python",
   "pygments_lexer": "ipython3",
   "version": "3.7.9"
  }
 },
 "nbformat": 4,
 "nbformat_minor": 5
}
