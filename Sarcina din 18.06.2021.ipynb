{
 "cells": [
  {
   "cell_type": "code",
   "execution_count": 6,
   "id": "e5a800ad",
   "metadata": {},
   "outputs": [
    {
     "name": "stdout",
     "output_type": "stream",
     "text": [
      "\n",
      "* \n",
      "* * \n",
      "* * * \n",
      "* * * * \n"
     ]
    }
   ],
   "source": [
    "# problema steluta\n",
    "for i in range(5):\n",
    "    print('* '*i)\n"
   ]
  },
  {
   "cell_type": "code",
   "execution_count": 7,
   "id": "ec15fb06",
   "metadata": {},
   "outputs": [
    {
     "name": "stdout",
     "output_type": "stream",
     "text": [
      "1x1=1\n",
      "1x2=2\n",
      "1x3=3\n",
      "1x4=4\n",
      "1x5=5\n",
      "1x6=6\n",
      "1x7=7\n",
      "1x8=8\n",
      "1x9=9\n",
      "1x10=10\n",
      "2x1=2\n",
      "2x2=4\n",
      "2x3=6\n",
      "2x4=8\n",
      "2x5=10\n",
      "2x6=12\n",
      "2x7=14\n",
      "2x8=16\n",
      "2x9=18\n",
      "2x10=20\n",
      "3x1=3\n",
      "3x2=6\n",
      "3x3=9\n",
      "3x4=12\n",
      "3x5=15\n",
      "3x6=18\n",
      "3x7=21\n",
      "3x8=24\n",
      "3x9=27\n",
      "3x10=30\n",
      "4x1=4\n",
      "4x2=8\n",
      "4x3=12\n",
      "4x4=16\n",
      "4x5=20\n",
      "4x6=24\n",
      "4x7=28\n",
      "4x8=32\n",
      "4x9=36\n",
      "4x10=40\n",
      "5x1=5\n",
      "5x2=10\n",
      "5x3=15\n",
      "5x4=20\n",
      "5x5=25\n",
      "5x6=30\n",
      "5x7=35\n",
      "5x8=40\n",
      "5x9=45\n",
      "5x10=50\n",
      "6x1=6\n",
      "6x2=12\n",
      "6x3=18\n",
      "6x4=24\n",
      "6x5=30\n",
      "6x6=36\n",
      "6x7=42\n",
      "6x8=48\n",
      "6x9=54\n",
      "6x10=60\n",
      "7x1=7\n",
      "7x2=14\n",
      "7x3=21\n",
      "7x4=28\n",
      "7x5=35\n",
      "7x6=42\n",
      "7x7=49\n",
      "7x8=56\n",
      "7x9=63\n",
      "7x10=70\n",
      "8x1=8\n",
      "8x2=16\n",
      "8x3=24\n",
      "8x4=32\n",
      "8x5=40\n",
      "8x6=48\n",
      "8x7=56\n",
      "8x8=64\n",
      "8x9=72\n",
      "8x10=80\n",
      "9x1=9\n",
      "9x2=18\n",
      "9x3=27\n",
      "9x4=36\n",
      "9x5=45\n",
      "9x6=54\n",
      "9x7=63\n",
      "9x8=72\n",
      "9x9=81\n",
      "9x10=90\n",
      "10x1=10\n",
      "10x2=20\n",
      "10x3=30\n",
      "10x4=40\n",
      "10x5=50\n",
      "10x6=60\n",
      "10x7=70\n",
      "10x8=80\n",
      "10x9=90\n",
      "10x10=100\n"
     ]
    }
   ],
   "source": [
    "#tabla inmultirii \n",
    "for i in range(1,11):\n",
    "    for j in range(1,11):\n",
    "        print(f\"{i}x{j}={i*j}\")\n",
    "\n",
    "        \n",
    "        "
   ]
  },
  {
   "cell_type": "code",
   "execution_count": 9,
   "id": "54f6592e",
   "metadata": {},
   "outputs": [
    {
     "name": "stdout",
     "output_type": "stream",
     "text": [
      "Cit face 2+2?5\n",
      "mai incearca odata 4\n",
      "Bravo!\n"
     ]
    }
   ],
   "source": [
    "#victorina 2+2\n",
    "a=int(input(\"Cit face 2+2?\"))\n",
    "if a==4:\n",
    "    print(\"Bravo! \")\n",
    "else:\n",
    "    while a!=4:\n",
    "        a=int(input(\"mai incearca odata \"))\n",
    "        if a==4:\n",
    "            print(\"Bravo!\")    "
   ]
  },
  {
   "cell_type": "code",
   "execution_count": 8,
   "id": "e691c1d7",
   "metadata": {},
   "outputs": [
    {
     "name": "stdout",
     "output_type": "stream",
     "text": [
      "Introduceti numarul de elemente5\n",
      "-2\n",
      "10\n",
      "6\n",
      "5\n",
      "4\n",
      "Ati introdus vector [-2, 10, 6, 5, 4]\n",
      "Suma elementelor= 23\n",
      "Produsul elementelor -2400\n"
     ]
    }
   ],
   "source": [
    "#Suma si produsul elementelor vectorului\n",
    "a=[]\n",
    "n=int(input(\"Introduceti numarul de elemente\"))\n",
    "for i in range(n):\n",
    "    a.append(int(input()))\n",
    "print(\"Ati introdus vector\", a)\n",
    "sum=0\n",
    "produs=1\n",
    "for i in range(n):\n",
    "    sum+=a[i]\n",
    "    produs*=a[i]\n",
    "print(\"Suma elementelor=\", sum)\n",
    "print(\"Produsul elementelor\", produs)"
   ]
  },
  {
   "cell_type": "code",
   "execution_count": null,
   "id": "e2915d4c",
   "metadata": {},
   "outputs": [],
   "source": []
  }
 ],
 "metadata": {
  "kernelspec": {
   "display_name": "Python 3",
   "language": "python",
   "name": "python3"
  },
  "language_info": {
   "codemirror_mode": {
    "name": "ipython",
    "version": 3
   },
   "file_extension": ".py",
   "mimetype": "text/x-python",
   "name": "python",
   "nbconvert_exporter": "python",
   "pygments_lexer": "ipython3",
   "version": "3.7.9"
  }
 },
 "nbformat": 4,
 "nbformat_minor": 5
}
